{
 "cells": [
  {
   "cell_type": "code",
   "execution_count": 5,
   "id": "560512ac",
   "metadata": {},
   "outputs": [],
   "source": [
    "import pyqrcode \n",
    "from pyqrcode import QRCode \n",
    "  \n",
    "# String which represent the QR code \n",
    "s = \"https://www.linkedin.com/in/dinesh-kumar-ravichandran/\"\n",
    "  \n",
    "# Generate QR code \n",
    "url = pyqrcode.create(s) \n",
    "\n",
    "# Create and save the png file naming \"myqr.png\"\n",
    "url.svg(\"mylinkedin.svg\", scale = 8)"
   ]
  },
  {
   "cell_type": "code",
   "execution_count": null,
   "id": "7b74493b",
   "metadata": {},
   "outputs": [],
   "source": []
  }
 ],
 "metadata": {
  "kernelspec": {
   "display_name": "Python 3 (ipykernel)",
   "language": "python",
   "name": "python3"
  },
  "language_info": {
   "codemirror_mode": {
    "name": "ipython",
    "version": 3
   },
   "file_extension": ".py",
   "mimetype": "text/x-python",
   "name": "python",
   "nbconvert_exporter": "python",
   "pygments_lexer": "ipython3",
   "version": "3.9.16"
  }
 },
 "nbformat": 4,
 "nbformat_minor": 5
}
